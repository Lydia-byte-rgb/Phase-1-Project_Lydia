{
 "cells": [
  {
   "cell_type": "markdown",
   "metadata": {
    "id": "JqrDB7T6mbrt"
   },
   "source": [
    "**#Phase 1 Project**\n",
    "\n",
    "Student Name: Lydia Mangoa\n",
    "\n",
    "Student Pace: Part-time DSF-PT09\n",
    "\n",
    "Project submisssion date: 24th November 2024\n",
    "\n",
    "Insturctors: Noah Kandie & Bonface Manyara\n"
   ]
  },
  {
   "cell_type": "markdown",
   "metadata": {
    "id": "JsbjUPlho5gP"
   },
   "source": [
    "# Project title: Improving Aviation Safety Through Data-Driven Insights\n"
   ]
  },
  {
   "cell_type": "markdown",
   "metadata": {
    "id": "EW0nVr5CpA7U"
   },
   "source": [
    "#1.**Overview**\n",
    "\n",
    "The goal of this analysis is to provide insights into aviation accidents to help identify low-risk aircraft models for commercial and private operations. This analysis will focus on:\r\n",
    "\r\n",
    "Accident frequencies by aircraft type and model.\r\n",
    "\r\n",
    "The number of engines on an aircraft and their influenc'e its safety performance and fatality rates\r\n",
    "\r\n",
    "Recommendations for selecting safer aircraft. "
   ]
  },
  {
   "cell_type": "markdown",
   "metadata": {
    "id": "ir_t4J0MqvZZ"
   },
   "source": [
    "#2. **Business Understanding**\n"
   ]
  },
  {
   "cell_type": "markdown",
   "metadata": {
    "id": "Nw9q_ROBq9gd"
   },
   "source": [
    "##**Stakeholders**\n",
    "\n",
    "-Head of Aviation Division: Decision-maker for aircraft purchases.\r\n",
    "\r\n",
    "-Leadership Team: Interested in financial viability and risk minimization."
   ]
  },
  {
   "cell_type": "markdown",
   "metadata": {
    "id": "BX8xQPkSrVdA"
   },
   "source": [
    "##**Key Business Questions**\n",
    "\n",
    "Which aircraft models have the lowest accident rates?\r\n",
    "\r\n",
    "How does the number of engines on an aircraft influence its safety performance and fatality rates in commercial and high-stakes operations?\r\n",
    "\r\n",
    "How can accident trends inform the selection of low-risk aircraft?"
   ]
  },
  {
   "cell_type": "markdown",
   "metadata": {
    "id": "G1oa9W7Mr674"
   },
   "source": [
    "##**Source of Data**\n",
    "The dataset is sourced from the Kaggle Aviation Accident Database Synopses, which includes historical aviation accident data."
   ]
  },
  {
   "cell_type": "markdown",
   "metadata": {
    "id": "SZW0ROSlrePv"
   },
   "source": [
    "#3.**Data Understanding**"
   ]
  },
  {
   "cell_type": "code",
   "execution_count": 14,
   "metadata": {
    "id": "il193CuXsMJ3"
   },
   "outputs": [
    {
     "ename": "FileNotFoundError",
     "evalue": "[Errno 2] No such file or directory: './AviationData.csv'",
     "output_type": "error",
     "traceback": [
      "\u001b[1;31m---------------------------------------------------------------------------\u001b[0m",
      "\u001b[1;31mFileNotFoundError\u001b[0m                         Traceback (most recent call last)",
      "Cell \u001b[1;32mIn[14], line 6\u001b[0m\n\u001b[0;32m      3\u001b[0m \u001b[38;5;28;01mimport\u001b[39;00m \u001b[38;5;21;01mmatplotlib\u001b[39;00m\u001b[38;5;21;01m.\u001b[39;00m\u001b[38;5;21;01mpyplot\u001b[39;00m \u001b[38;5;28;01mas\u001b[39;00m \u001b[38;5;21;01mplt\u001b[39;00m\n\u001b[0;32m      4\u001b[0m \u001b[38;5;28;01mimport\u001b[39;00m \u001b[38;5;21;01mseaborn\u001b[39;00m \u001b[38;5;28;01mas\u001b[39;00m \u001b[38;5;21;01msns\u001b[39;00m\n\u001b[1;32m----> 6\u001b[0m df \u001b[38;5;241m=\u001b[39m pd\u001b[38;5;241m.\u001b[39mread_csv(\u001b[38;5;124m\"\u001b[39m\u001b[38;5;124m./AviationData.csv\u001b[39m\u001b[38;5;124m\"\u001b[39m, encoding\u001b[38;5;241m=\u001b[39m\u001b[38;5;124m\"\u001b[39m\u001b[38;5;124mISO-8859-1\u001b[39m\u001b[38;5;124m\"\u001b[39m, low_memory\u001b[38;5;241m=\u001b[39m\u001b[38;5;28;01mFalse\u001b[39;00m)\n",
      "File \u001b[1;32m~\\anaconda3\\Lib\\site-packages\\pandas\\io\\parsers\\readers.py:948\u001b[0m, in \u001b[0;36mread_csv\u001b[1;34m(filepath_or_buffer, sep, delimiter, header, names, index_col, usecols, dtype, engine, converters, true_values, false_values, skipinitialspace, skiprows, skipfooter, nrows, na_values, keep_default_na, na_filter, verbose, skip_blank_lines, parse_dates, infer_datetime_format, keep_date_col, date_parser, date_format, dayfirst, cache_dates, iterator, chunksize, compression, thousands, decimal, lineterminator, quotechar, quoting, doublequote, escapechar, comment, encoding, encoding_errors, dialect, on_bad_lines, delim_whitespace, low_memory, memory_map, float_precision, storage_options, dtype_backend)\u001b[0m\n\u001b[0;32m    935\u001b[0m kwds_defaults \u001b[38;5;241m=\u001b[39m _refine_defaults_read(\n\u001b[0;32m    936\u001b[0m     dialect,\n\u001b[0;32m    937\u001b[0m     delimiter,\n\u001b[1;32m   (...)\u001b[0m\n\u001b[0;32m    944\u001b[0m     dtype_backend\u001b[38;5;241m=\u001b[39mdtype_backend,\n\u001b[0;32m    945\u001b[0m )\n\u001b[0;32m    946\u001b[0m kwds\u001b[38;5;241m.\u001b[39mupdate(kwds_defaults)\n\u001b[1;32m--> 948\u001b[0m \u001b[38;5;28;01mreturn\u001b[39;00m _read(filepath_or_buffer, kwds)\n",
      "File \u001b[1;32m~\\anaconda3\\Lib\\site-packages\\pandas\\io\\parsers\\readers.py:611\u001b[0m, in \u001b[0;36m_read\u001b[1;34m(filepath_or_buffer, kwds)\u001b[0m\n\u001b[0;32m    608\u001b[0m _validate_names(kwds\u001b[38;5;241m.\u001b[39mget(\u001b[38;5;124m\"\u001b[39m\u001b[38;5;124mnames\u001b[39m\u001b[38;5;124m\"\u001b[39m, \u001b[38;5;28;01mNone\u001b[39;00m))\n\u001b[0;32m    610\u001b[0m \u001b[38;5;66;03m# Create the parser.\u001b[39;00m\n\u001b[1;32m--> 611\u001b[0m parser \u001b[38;5;241m=\u001b[39m TextFileReader(filepath_or_buffer, \u001b[38;5;241m*\u001b[39m\u001b[38;5;241m*\u001b[39mkwds)\n\u001b[0;32m    613\u001b[0m \u001b[38;5;28;01mif\u001b[39;00m chunksize \u001b[38;5;129;01mor\u001b[39;00m iterator:\n\u001b[0;32m    614\u001b[0m     \u001b[38;5;28;01mreturn\u001b[39;00m parser\n",
      "File \u001b[1;32m~\\anaconda3\\Lib\\site-packages\\pandas\\io\\parsers\\readers.py:1448\u001b[0m, in \u001b[0;36mTextFileReader.__init__\u001b[1;34m(self, f, engine, **kwds)\u001b[0m\n\u001b[0;32m   1445\u001b[0m     \u001b[38;5;28mself\u001b[39m\u001b[38;5;241m.\u001b[39moptions[\u001b[38;5;124m\"\u001b[39m\u001b[38;5;124mhas_index_names\u001b[39m\u001b[38;5;124m\"\u001b[39m] \u001b[38;5;241m=\u001b[39m kwds[\u001b[38;5;124m\"\u001b[39m\u001b[38;5;124mhas_index_names\u001b[39m\u001b[38;5;124m\"\u001b[39m]\n\u001b[0;32m   1447\u001b[0m \u001b[38;5;28mself\u001b[39m\u001b[38;5;241m.\u001b[39mhandles: IOHandles \u001b[38;5;241m|\u001b[39m \u001b[38;5;28;01mNone\u001b[39;00m \u001b[38;5;241m=\u001b[39m \u001b[38;5;28;01mNone\u001b[39;00m\n\u001b[1;32m-> 1448\u001b[0m \u001b[38;5;28mself\u001b[39m\u001b[38;5;241m.\u001b[39m_engine \u001b[38;5;241m=\u001b[39m \u001b[38;5;28mself\u001b[39m\u001b[38;5;241m.\u001b[39m_make_engine(f, \u001b[38;5;28mself\u001b[39m\u001b[38;5;241m.\u001b[39mengine)\n",
      "File \u001b[1;32m~\\anaconda3\\Lib\\site-packages\\pandas\\io\\parsers\\readers.py:1705\u001b[0m, in \u001b[0;36mTextFileReader._make_engine\u001b[1;34m(self, f, engine)\u001b[0m\n\u001b[0;32m   1703\u001b[0m     \u001b[38;5;28;01mif\u001b[39;00m \u001b[38;5;124m\"\u001b[39m\u001b[38;5;124mb\u001b[39m\u001b[38;5;124m\"\u001b[39m \u001b[38;5;129;01mnot\u001b[39;00m \u001b[38;5;129;01min\u001b[39;00m mode:\n\u001b[0;32m   1704\u001b[0m         mode \u001b[38;5;241m+\u001b[39m\u001b[38;5;241m=\u001b[39m \u001b[38;5;124m\"\u001b[39m\u001b[38;5;124mb\u001b[39m\u001b[38;5;124m\"\u001b[39m\n\u001b[1;32m-> 1705\u001b[0m \u001b[38;5;28mself\u001b[39m\u001b[38;5;241m.\u001b[39mhandles \u001b[38;5;241m=\u001b[39m get_handle(\n\u001b[0;32m   1706\u001b[0m     f,\n\u001b[0;32m   1707\u001b[0m     mode,\n\u001b[0;32m   1708\u001b[0m     encoding\u001b[38;5;241m=\u001b[39m\u001b[38;5;28mself\u001b[39m\u001b[38;5;241m.\u001b[39moptions\u001b[38;5;241m.\u001b[39mget(\u001b[38;5;124m\"\u001b[39m\u001b[38;5;124mencoding\u001b[39m\u001b[38;5;124m\"\u001b[39m, \u001b[38;5;28;01mNone\u001b[39;00m),\n\u001b[0;32m   1709\u001b[0m     compression\u001b[38;5;241m=\u001b[39m\u001b[38;5;28mself\u001b[39m\u001b[38;5;241m.\u001b[39moptions\u001b[38;5;241m.\u001b[39mget(\u001b[38;5;124m\"\u001b[39m\u001b[38;5;124mcompression\u001b[39m\u001b[38;5;124m\"\u001b[39m, \u001b[38;5;28;01mNone\u001b[39;00m),\n\u001b[0;32m   1710\u001b[0m     memory_map\u001b[38;5;241m=\u001b[39m\u001b[38;5;28mself\u001b[39m\u001b[38;5;241m.\u001b[39moptions\u001b[38;5;241m.\u001b[39mget(\u001b[38;5;124m\"\u001b[39m\u001b[38;5;124mmemory_map\u001b[39m\u001b[38;5;124m\"\u001b[39m, \u001b[38;5;28;01mFalse\u001b[39;00m),\n\u001b[0;32m   1711\u001b[0m     is_text\u001b[38;5;241m=\u001b[39mis_text,\n\u001b[0;32m   1712\u001b[0m     errors\u001b[38;5;241m=\u001b[39m\u001b[38;5;28mself\u001b[39m\u001b[38;5;241m.\u001b[39moptions\u001b[38;5;241m.\u001b[39mget(\u001b[38;5;124m\"\u001b[39m\u001b[38;5;124mencoding_errors\u001b[39m\u001b[38;5;124m\"\u001b[39m, \u001b[38;5;124m\"\u001b[39m\u001b[38;5;124mstrict\u001b[39m\u001b[38;5;124m\"\u001b[39m),\n\u001b[0;32m   1713\u001b[0m     storage_options\u001b[38;5;241m=\u001b[39m\u001b[38;5;28mself\u001b[39m\u001b[38;5;241m.\u001b[39moptions\u001b[38;5;241m.\u001b[39mget(\u001b[38;5;124m\"\u001b[39m\u001b[38;5;124mstorage_options\u001b[39m\u001b[38;5;124m\"\u001b[39m, \u001b[38;5;28;01mNone\u001b[39;00m),\n\u001b[0;32m   1714\u001b[0m )\n\u001b[0;32m   1715\u001b[0m \u001b[38;5;28;01massert\u001b[39;00m \u001b[38;5;28mself\u001b[39m\u001b[38;5;241m.\u001b[39mhandles \u001b[38;5;129;01mis\u001b[39;00m \u001b[38;5;129;01mnot\u001b[39;00m \u001b[38;5;28;01mNone\u001b[39;00m\n\u001b[0;32m   1716\u001b[0m f \u001b[38;5;241m=\u001b[39m \u001b[38;5;28mself\u001b[39m\u001b[38;5;241m.\u001b[39mhandles\u001b[38;5;241m.\u001b[39mhandle\n",
      "File \u001b[1;32m~\\anaconda3\\Lib\\site-packages\\pandas\\io\\common.py:863\u001b[0m, in \u001b[0;36mget_handle\u001b[1;34m(path_or_buf, mode, encoding, compression, memory_map, is_text, errors, storage_options)\u001b[0m\n\u001b[0;32m    858\u001b[0m \u001b[38;5;28;01melif\u001b[39;00m \u001b[38;5;28misinstance\u001b[39m(handle, \u001b[38;5;28mstr\u001b[39m):\n\u001b[0;32m    859\u001b[0m     \u001b[38;5;66;03m# Check whether the filename is to be opened in binary mode.\u001b[39;00m\n\u001b[0;32m    860\u001b[0m     \u001b[38;5;66;03m# Binary mode does not support 'encoding' and 'newline'.\u001b[39;00m\n\u001b[0;32m    861\u001b[0m     \u001b[38;5;28;01mif\u001b[39;00m ioargs\u001b[38;5;241m.\u001b[39mencoding \u001b[38;5;129;01mand\u001b[39;00m \u001b[38;5;124m\"\u001b[39m\u001b[38;5;124mb\u001b[39m\u001b[38;5;124m\"\u001b[39m \u001b[38;5;129;01mnot\u001b[39;00m \u001b[38;5;129;01min\u001b[39;00m ioargs\u001b[38;5;241m.\u001b[39mmode:\n\u001b[0;32m    862\u001b[0m         \u001b[38;5;66;03m# Encoding\u001b[39;00m\n\u001b[1;32m--> 863\u001b[0m         handle \u001b[38;5;241m=\u001b[39m \u001b[38;5;28mopen\u001b[39m(\n\u001b[0;32m    864\u001b[0m             handle,\n\u001b[0;32m    865\u001b[0m             ioargs\u001b[38;5;241m.\u001b[39mmode,\n\u001b[0;32m    866\u001b[0m             encoding\u001b[38;5;241m=\u001b[39mioargs\u001b[38;5;241m.\u001b[39mencoding,\n\u001b[0;32m    867\u001b[0m             errors\u001b[38;5;241m=\u001b[39merrors,\n\u001b[0;32m    868\u001b[0m             newline\u001b[38;5;241m=\u001b[39m\u001b[38;5;124m\"\u001b[39m\u001b[38;5;124m\"\u001b[39m,\n\u001b[0;32m    869\u001b[0m         )\n\u001b[0;32m    870\u001b[0m     \u001b[38;5;28;01melse\u001b[39;00m:\n\u001b[0;32m    871\u001b[0m         \u001b[38;5;66;03m# Binary mode\u001b[39;00m\n\u001b[0;32m    872\u001b[0m         handle \u001b[38;5;241m=\u001b[39m \u001b[38;5;28mopen\u001b[39m(handle, ioargs\u001b[38;5;241m.\u001b[39mmode)\n",
      "\u001b[1;31mFileNotFoundError\u001b[0m: [Errno 2] No such file or directory: './AviationData.csv'"
     ]
    }
   ],
   "source": [
    "#Load the data set\n",
    "import pandas as pd\n",
    "import matplotlib.pyplot as plt\n",
    "import seaborn as sns\n",
    "\n",
    "df = pd.read_csv(\"./AviationData.csv\", encoding=\"ISO-8859-1\", low_memory=False)\n"
   ]
  },
  {
   "cell_type": "code",
   "execution_count": null,
   "metadata": {
    "colab": {
     "base_uri": "https://localhost:8080/",
     "height": 300
    },
    "id": "PvTrDR9ds1Of",
    "outputId": "b70778c4-bd76-4865-8a80-a27374a9104e"
   },
   "outputs": [],
   "source": [
    "#Summary of statistics\n",
    "df.describe()"
   ]
  },
  {
   "cell_type": "code",
   "execution_count": null,
   "metadata": {
    "colab": {
     "base_uri": "https://localhost:8080/"
    },
    "id": "u2bdfX5lseRg",
    "outputId": "d9f54047-2f10-404e-f396-5997dacec5da"
   },
   "outputs": [],
   "source": [
    "#Summary of data types\n",
    "df.info()"
   ]
  },
  {
   "cell_type": "code",
   "execution_count": null,
   "metadata": {
    "colab": {
     "base_uri": "https://localhost:8080/",
     "height": 342
    },
    "id": "71DF3q_hsowN",
    "outputId": "8f819061-2e93-4d9b-89a3-d04439e110fa"
   },
   "outputs": [],
   "source": [
    "#Quick overview -Showing the first five rows\n",
    "df.head()"
   ]
  },
  {
   "cell_type": "code",
   "execution_count": null,
   "metadata": {
    "colab": {
     "base_uri": "https://localhost:8080/",
     "height": 342
    },
    "id": "D-tM-gEf5iaf",
    "outputId": "5b5b213a-bea6-4b8c-b1f8-2e381518c2ae"
   },
   "outputs": [],
   "source": [
    "#Quick overview- Showing the 5 last rows\n",
    "df.tail()"
   ]
  },
  {
   "cell_type": "markdown",
   "metadata": {
    "id": "odn9PoketQ_w"
   },
   "source": [
    "#4.**Data Preparation**"
   ]
  },
  {
   "cell_type": "markdown",
   "metadata": {
    "id": "oroOAjWm7ctg"
   },
   "source": [
    "###Clean Mixed-Type Columns\n",
    "\n",
    "Having received a warning while loading the data set that columns 6,7 and 28 have mixed datatypes, the first step will be to clean these columns."
   ]
  },
  {
   "cell_type": "code",
   "execution_count": null,
   "metadata": {
    "colab": {
     "base_uri": "https://localhost:8080/"
    },
    "id": "y7q4Gyym66fF",
    "outputId": "e6cb606c-6283-4df7-a67d-9c89df33f90f"
   },
   "outputs": [],
   "source": [
    "print(\"Column names:\", df.columns)\n",
    "print(\"Columns with mixed types:\")\n",
    "print(df.iloc[:, [6, 7, 28]].head())"
   ]
  },
  {
   "cell_type": "code",
   "execution_count": null,
   "metadata": {
    "colab": {
     "base_uri": "https://localhost:8080/"
    },
    "id": "AzpWGu2Z7H1u",
    "outputId": "d628fcb7-b16a-4113-af4c-4d8c21f5d24a"
   },
   "outputs": [],
   "source": [
    "for col in [df.columns[6], df.columns[7], df.columns[28]]:\n",
    "    print(f\"Unique values in {col}:\")\n",
    "    print(df[col].unique())\n",
    "\n",
    "    # Convert column to numeric (if needed), coercing errors to NaN\n",
    "    df[col] = pd.to_numeric(df[col], errors=\"coerce\")"
   ]
  },
  {
   "cell_type": "code",
   "execution_count": null,
   "metadata": {
    "colab": {
     "base_uri": "https://localhost:8080/",
     "height": 979
    },
    "id": "DHvuPm8O7Un_",
    "outputId": "5dd5f006-c095-4bde-eea6-248e40fbce8e"
   },
   "outputs": [],
   "source": [
    "#Validate the data\n",
    "df.info()\n",
    "df.describe()"
   ]
  },
  {
   "cell_type": "markdown",
   "metadata": {
    "id": "NLWEKB6DuDxb"
   },
   "source": [
    "###Handle Missing values"
   ]
  },
  {
   "cell_type": "code",
   "execution_count": null,
   "metadata": {
    "colab": {
     "base_uri": "https://localhost:8080/"
    },
    "id": "xSg4DI4ztQND",
    "outputId": "822519f6-8ccf-45e8-d18d-d49c50212700"
   },
   "outputs": [],
   "source": [
    "#Identify missing values\n",
    "missing_data = df.isnull().sum()\n",
    "print(\"Missing Values:\\n\", missing_data)"
   ]
  },
  {
   "cell_type": "code",
   "execution_count": null,
   "metadata": {},
   "outputs": [],
   "source": [
    "# Handle missing values\n",
    "df['Aircraft.damage'].fillna('Unknown', inplace=True)\n",
    "df['Weather.Condition'].fillna('Unknown', inplace=True)\n",
    "df.dropna(subset=['Make', 'Model'], inplace=True)"
   ]
  },
  {
   "cell_type": "markdown",
   "metadata": {
    "id": "hZ7nKxuiv35E"
   },
   "source": [
    "# 5. **Data Analysis**"
   ]
  },
  {
   "cell_type": "code",
   "execution_count": null,
   "metadata": {
    "id": "UAUdi_9lwEHg"
   },
   "outputs": [],
   "source": [
    "# Top 10 Aircraft Makes by Accident Count\n",
    "top_makes = df['Make'].value_counts().head(10)\n",
    "\n",
    "plt.figure(figsize=(10, 6))\n",
    "top_makes.plot(kind='bar', color='skyblue')\n",
    "plt.title(\"Top 10 Aircraft Makes by Accident Count\")\n",
    "plt.xlabel(\"Aircraft Make\")\n",
    "plt.ylabel(\"Number of Accidents\")\n",
    "plt.xticks(rotation=45)\n",
    "plt.show()"
   ]
  },
  {
   "cell_type": "code",
   "execution_count": null,
   "metadata": {},
   "outputs": [],
   "source": [
    "# Yearly Trend in Accidents\n",
    "df['Year'] = df['Event.Date'].dt.year\n",
    "yearly_accidents = df.groupby('Year').size()\n",
    "\n",
    "plt.figure(figsize=(12, 6))\n",
    "yearly_accidents.plot(kind='line', marker='o', color='red')\n",
    "plt.title(\"Yearly Trend in Aviation Accidents\")\n",
    "plt.xlabel(\"Year\")\n",
    "plt.ylabel(\"Number of Accidents\")\n",
    "plt.grid()\n",
    "plt.show()"
   ]
  },
  {
   "cell_type": "code",
   "execution_count": null,
   "metadata": {},
   "outputs": [],
   "source": [
    "# Compare single-engine vs multi-engine accidents\n",
    "# Severity mapping\n",
    "severity_map = {\n",
    "    \"Fatal\": 3,\n",
    "    \"Serious\": 2,\n",
    "    \"Minor\": 1,\n",
    "    \"None\": 0,\n",
    "    \"Unknown\": -1\n",
    "}\n",
    "\n",
    "# Apply severity mapping to create a severity score\n",
    "df['Severity.Score'] = df['Injury.Severity'].map(severity_map).fillna(-1)\n",
    "\n",
    "# Create a derived column to classify accidents as fatal or non-fatal\n",
    "df['Is.Fatal'] = df['Total.Fatal.Injuries'] > 0\n",
    "\n",
    "# Group by 'Number.of.Engines' to calculate fatality rates\n",
    "engine_accidents = df.groupby('Number.of.Engines')['Is.Fatal'].mean()\n",
    "\n",
    "# Plot the bar chart\n",
    "plt.figure(figsize=(8, 5))\n",
    "engine_accidents.plot(kind='bar', color=['green', 'orange'])\n",
    "plt.title(\"Fatality Rate by Number of Engines\")\n",
    "plt.xlabel(\"Number of Engines\")\n",
    "plt.ylabel(\"Average Fatality Rate\")\n",
    "plt.xticks(rotation=0)\n",
    "plt.show()"
   ]
  },
  {
   "cell_type": "markdown",
   "metadata": {
    "id": "ZhN6pSO4xCQy"
   },
   "source": [
    "#6. **Conclusion**\n",
    "Key findings:\n",
    "\n",
    "-Aircraft Safety: Certain models (e.g., Cessna 172 and Boeing 737) have a higher number of accidents but could reflect higher usage rather than risk.\r\n",
    "\r\n",
    "-Trends Over Tim e:Accident frequencies have declined over the years, indicating improving safety practices.\r\n",
    "\r\n",
    "-Fatality Rates by Number of Engi nes:Aircraft with multiple engines generally show lower average fatality rates compared to single-engine aircraft. This suggests that redundancy in engines enhances safety, potentially offering more options in emergencies, such as engine failure."
   ]
  },
  {
   "cell_type": "markdown",
   "metadata": {
    "id": "2mFWTDycxWNC"
   },
   "source": [
    "#7.Recommendations\r\n",
    "-Focus on Safe Aircraft Models: Prioritize modern, widely operated models with good safety records and low Severity Scores.\r\n",
    "\r\n",
    "-The declining trend in accidents likely reflects technological advancements. Prioritize acquiring modern aircraft models with the latest safety technologies (e.g., enhanced navigation systems, automated controls, and multi-engine redundancy). These investments align with reducing operational risks. Therefore' its safe to begin operations with aircraft models that have demonstrated lower accident rates historically.\r\n",
    "\r\n",
    "-Leverage Advanced Weather  Tech:Invest in aircraft equipped with advanced weather detection systems to handle adverse conditions effectively.\r\n",
    "\r\n",
    "-Choose Multi-Engine Aircraft for Commercial Operations: For commercial and high-stakes operations, prioritize acquiring multi-engine aircraft due to their lower fatality rates. This aligns with safety-first principles and enhances the company's reputation in aviation safety."
   ]
  },
  {
   "cell_type": "code",
   "execution_count": null,
   "metadata": {},
   "outputs": [],
   "source": []
  }
 ],
 "metadata": {
  "colab": {
   "provenance": []
  },
  "kernelspec": {
   "display_name": "Python 3 (ipykernel)",
   "language": "python",
   "name": "python3"
  },
  "language_info": {
   "codemirror_mode": {
    "name": "ipython",
    "version": 3
   },
   "file_extension": ".py",
   "mimetype": "text/x-python",
   "name": "python",
   "nbconvert_exporter": "python",
   "pygments_lexer": "ipython3",
   "version": "3.11.7"
  }
 },
 "nbformat": 4,
 "nbformat_minor": 4
}
